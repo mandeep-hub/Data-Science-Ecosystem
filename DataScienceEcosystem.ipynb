{
 "cells": [
  {
   "cell_type": "markdown",
   "id": "6848cf12-ce08-4559-913e-6106991fa59b",
   "metadata": {},
   "source": [
    "# Data Science Tools and Ecosystem #"
   ]
  },
  {
   "cell_type": "markdown",
   "id": "336bf4d0-61da-4245-ac73-6d927c6aee1e",
   "metadata": {},
   "source": [
    "In this notebook, Data Science Tools and Ecosystem are summarized."
   ]
  },
  {
   "cell_type": "markdown",
   "id": "6fd92203-cf9a-4e1b-a42b-10c88b74c5e0",
   "metadata": {},
   "source": [
    "### Some of the popular languages that Data Scientists use are:\n",
    "1. Python\n",
    "2. SQL\n",
    "3. R"
   ]
  },
  {
   "cell_type": "markdown",
   "id": "e119dfaf-f40e-4c98-a2a5-9277be816e5b",
   "metadata": {},
   "source": [
    "#### Some of the commonly used libraries used by Data Scientists include:\n",
    "1. NumPy\n",
    "2. Pandas\n",
    "3. SciPy"
   ]
  },
  {
   "cell_type": "markdown",
   "id": "56700bbb-2d45-40e8-9e6f-13152ee3d9c4",
   "metadata": {},
   "source": [
    "|  | Data Science Tools |\n",
    "| -------------| ------ |\n",
    "|Apache Hadoop |\n",
    "|Apache Spark | \n",
    "|Apache Flink|"
   ]
  },
  {
   "cell_type": "markdown",
   "id": "2d482224-c5c8-4a9a-8bc6-1107a552900a",
   "metadata": {},
   "source": [
    "### Below are a few examples of evaluating arithmetic expressions in Python ###"
   ]
  },
  {
   "cell_type": "code",
   "execution_count": 14,
   "id": "9dcfc743-3bce-449a-870a-3bcb703c54b9",
   "metadata": {},
   "outputs": [
    {
     "data": {
      "text/plain": [
       "17"
      ]
     },
     "execution_count": 14,
     "metadata": {},
     "output_type": "execute_result"
    }
   ],
   "source": [
    "#This a simple arithmetic expression to mutiply then add integers\n",
    "(3*4)+5"
   ]
  },
  {
   "cell_type": "code",
   "execution_count": 16,
   "id": "16614940-024d-47e5-99b6-c28f444ecbca",
   "metadata": {},
   "outputs": [
    {
     "data": {
      "text/plain": [
       "3.3333333333333335"
      ]
     },
     "execution_count": 16,
     "metadata": {},
     "output_type": "execute_result"
    }
   ],
   "source": [
    "#This will convert 200 minutes to hours by diving by 60\n",
    "200/60"
   ]
  },
  {
   "cell_type": "markdown",
   "id": "8eb09916-e982-41cc-93ee-609f2a62422c",
   "metadata": {},
   "source": [
    "# Objectives:\n",
    "* The popular languages are Python, R, SQL, Scala, Java, C++, and Julia.\n",
    "* Python is open source, and R is free software.\n",
    "* SQL was designed for managing data in relational databases.\n",
    "* Data science tools built with Java include Weka, Java-ML, Apache MLlib, and Deeplearning4.\n"
   ]
  },
  {
   "cell_type": "markdown",
   "id": "94cbbd38-b1cf-4133-a3f9-424fbd4feda9",
   "metadata": {},
   "source": [
    "## Author \n",
    "Mandeep Singh"
   ]
  },
  {
   "cell_type": "code",
   "execution_count": null,
   "id": "d6521933-1c87-45e0-8375-14486523e429",
   "metadata": {},
   "outputs": [],
   "source": []
  }
 ],
 "metadata": {
  "kernelspec": {
   "display_name": "Python 3 (ipykernel)",
   "language": "python",
   "name": "python3"
  },
  "language_info": {
   "codemirror_mode": {
    "name": "ipython",
    "version": 3
   },
   "file_extension": ".py",
   "mimetype": "text/x-python",
   "name": "python",
   "nbconvert_exporter": "python",
   "pygments_lexer": "ipython3",
   "version": "3.12.5"
  }
 },
 "nbformat": 4,
 "nbformat_minor": 5
}
